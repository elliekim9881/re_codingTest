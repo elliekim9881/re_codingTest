{
 "cells": [
  {
   "cell_type": "code",
   "execution_count": 3,
   "metadata": {},
   "outputs": [
    {
     "name": "stdout",
     "output_type": "stream",
     "text": [
      "27 15 12 "
     ]
    }
   ],
   "source": [
    "# 위에서 아래로\n",
    "n = int(input())\n",
    "array = []\n",
    "for i in range(n):\n",
    "    array.append(int(input()))\n",
    "\n",
    "array = sorted(array, reverse=True)\n",
    "\n",
    "for i in array:\n",
    "    print(i, end=' ')"
   ]
  },
  {
   "cell_type": "code",
   "execution_count": 2,
   "metadata": {
    "tags": []
   },
   "outputs": [
    {
     "name": "stdout",
     "output_type": "stream",
     "text": [
      "이순신 홍길동 "
     ]
    }
   ],
   "source": [
    "#성적이 낮은 순서대로 학생 출력하기\n",
    "\n",
    "n = int(input(\"input\"))\n",
    "\n",
    "array = []\n",
    "for i in range(n):\n",
    "    input_data = input().split()\n",
    "    array.append((input_data[0], int(input_data[1])))\n",
    "\n",
    "array = sorted(array, key=lambda student: student[1])\n",
    "\n",
    "for student in array:\n",
    "    print(student[0], end=' ')"
   ]
  },
  {
   "cell_type": "code",
   "execution_count": 4,
   "metadata": {},
   "outputs": [
    {
     "name": "stdout",
     "output_type": "stream",
     "text": [
      "26\n"
     ]
    }
   ],
   "source": [
    "# 두 배열의 원소 교체\n",
    "n , k = map(int,input().split())\n",
    "\n",
    "a = list(map(int,input().split()))\n",
    "b = list(map(int,input().split()))\n",
    "\n",
    "a.sort() #a 정렬\n",
    "b.sort(reverse=True) # 내림차순 정렬\n",
    "\n",
    "#a의 원소가 b의 원소보다 작은 경우\n",
    "for i in range(k):\n",
    "    if a[i] < b[i]:\n",
    "        a[i], b[i] = b[i], a[i]\n",
    "    else:\n",
    "        break\n",
    "    \n",
    "print(sum(a))"
   ]
  }
 ],
 "metadata": {
  "kernelspec": {
   "display_name": "conda",
   "language": "python",
   "name": "conda"
  },
  "language_info": {
   "codemirror_mode": {
    "name": "ipython",
    "version": 3
   },
   "file_extension": ".py",
   "mimetype": "text/x-python",
   "name": "python",
   "nbconvert_exporter": "python",
   "pygments_lexer": "ipython3",
   "version": "3.9.0"
  },
  "orig_nbformat": 4
 },
 "nbformat": 4,
 "nbformat_minor": 2
}
