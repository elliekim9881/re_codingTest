{
 "cells": [
  {
   "cell_type": "code",
   "execution_count": 1,
   "metadata": {},
   "outputs": [
    {
     "name": "stdout",
     "output_type": "stream",
     "text": [
      "no yes yes "
     ]
    }
   ],
   "source": [
    "# 부품찾기\n",
    "def binary_search(array, target, start, end):\n",
    "        if start > end:\n",
    "            return None\n",
    "        mid = (start + end) // 2\n",
    "        #찾은 경우 중간점 인덱스 반환\n",
    "        if array[mid] == target:\n",
    "            return mid\n",
    "        # 중간점의 값보다 찾고자 하는 값이 작은 경우 왼쪽 확인\n",
    "        elif array[mid] > target:\n",
    "            return binary_search(array, target, start, mid-1)\n",
    "        # 중간점의 값보다 찾고자 하는 값이 큰 경우 오른쪽 확인\n",
    "        else:\n",
    "            return binary_search(array, target, mid+1, end)\n",
    "#가게의 부품 개수        \n",
    "n = int(input())\n",
    "array = list(map(int, input().split()))\n",
    "array.sort()\n",
    "#확인 요청한 부품 개수\n",
    "m = int(input())\n",
    "#부품번호\n",
    "array_num = list(map(int, input().split()))\n",
    "    \n",
    "#이진 탐색 수행 결과 출력\n",
    "for i in array_num:\n",
    "    result = binary_search(array, i, 0 , n-1)\n",
    "    if result != None:\n",
    "        print(\"yes\", end = \" \")\n",
    "    else:\n",
    "        print(\"no\", end = \" \")\n",
    "    \n",
    "    "
   ]
  },
  {
   "cell_type": "code",
   "execution_count": 1,
   "metadata": {},
   "outputs": [
    {
     "name": "stdout",
     "output_type": "stream",
     "text": [
      "15\n"
     ]
    }
   ],
   "source": [
    "#떡볶이 떡 만들기\n",
    "#떡 개수 , 요청한 떡 길이\n",
    "n,m = list(map(int,input().split()))\n",
    "# 떡의 개별 높이 정보\n",
    "array = list(map(int,input().split()))\n",
    "\n",
    "start = 0\n",
    "end  = max(array)\n",
    "\n",
    "result = 0\n",
    "while(start <= end):\n",
    "    total = 0\n",
    "    mid = (start+end)//2\n",
    "    for x in array: #잘랐을 때 떡의 양 계산\n",
    "        if x > mid:\n",
    "            total += x - mid\n",
    "    # 떡의 양 부족 , 왼탐색\n",
    "    if total < m:\n",
    "        end = mid -1\n",
    "    else:\n",
    "        result = mid # 최대한 덜 잘랐을때 \n",
    "        start = mid + 1\n",
    "        \n",
    "print(result)"
   ]
  },
  {
   "cell_type": "code",
   "execution_count": null,
   "metadata": {},
   "outputs": [],
   "source": []
  }
 ],
 "metadata": {
  "kernelspec": {
   "display_name": "conda_1",
   "language": "python",
   "name": "conda"
  },
  "language_info": {
   "codemirror_mode": {
    "name": "ipython",
    "version": 3
   },
   "file_extension": ".py",
   "mimetype": "text/x-python",
   "name": "python",
   "nbconvert_exporter": "python",
   "pygments_lexer": "ipython3",
   "version": "3.9.0"
  },
  "orig_nbformat": 4
 },
 "nbformat": 4,
 "nbformat_minor": 2
}
