{
 "cells": [
  {
   "cell_type": "code",
   "execution_count": null,
   "metadata": {},
   "outputs": [],
   "source": [
    "# 부품찾기\n",
    "def binary_search(array, target, start, end):\n",
    "        if start > end:\n",
    "            return None\n",
    "        mid = (start + end) // 2\n",
    "        #찾은 경우 중간점 인덱스 반환\n",
    "        if array[mid] == target:\n",
    "            return mid\n",
    "        # 중간점의 값보다 찾고자 하는 값이 작은 경우 왼쪽 확인\n",
    "        elif array[mid] > target:\n",
    "            return binary_search(array, target, start, mid-1)\n",
    "        # 중간점의 값보다 찾고자 하는 값이 큰 경우 오른쪽 확인\n",
    "        else:\n",
    "            return binary_search(array, target, mid+1, end)\n",
    "#가게의 부품 개수        \n",
    "n = int(input())\n",
    "array = list(map(int, input().split()))\n",
    "array.sort()\n",
    "#확인 요청한 부품 개수\n",
    "m = int(input())\n",
    "#부품번호\n",
    "array_num = list(map(int, input().split()))\n",
    "    \n",
    "#이진 탐색 수행 결과 출력\n",
    "for i in array_num:\n",
    "    result = binary_search(array, i, 0 , n-1)\n",
    "    if result != None:\n",
    "        print(\"yes\", end = \" \")\n",
    "    else:\n",
    "        print(\"no\", end = \" \")\n",
    "    \n",
    "    "
   ]
  },
  {
   "cell_type": "code",
   "execution_count": null,
   "metadata": {},
   "outputs": [],
   "source": [
    "#떡볶이 떡 만들기\n",
    "#떡 개수 , 요청한 떡 길이\n",
    "n,m = list(map(int,input().split()))\n",
    "# 떡의 개별 높이 정보\n",
    "array = list(map(int,input().split()))\n",
    "\n",
    "start = 0\n",
    "end  = max(array)\n",
    "\n",
    "result = 0\n",
    "while(start <= end):\n",
    "    total = 0\n",
    "    mid = (start+end)//2\n",
    "    for x in array: #잘랐을 때 떡의 양 계산\n",
    "        if x > mid:\n",
    "            total += x - mid\n",
    "    # 떡의 양 부족 , 왼탐색\n",
    "    if total < m:\n",
    "        end = mid -1\n",
    "    else:\n",
    "        result = mid # 최대한 덜 잘랐을때 \n",
    "        start = mid + 1\n",
    "        \n",
    "print(result)"
   ]
  },
  {
   "cell_type": "code",
   "execution_count": null,
   "metadata": {},
   "outputs": [],
   "source": [
    "# 입력\n",
    "N = int(input())\n",
    "A = set(map(int, input().split()))\t# 탐색 시간을 줄이기 위해 set으로 받음\n",
    "M = int(input())\n",
    "arr = list(map(int, input().split()))\n",
    "\n",
    "for num in arr:\t\t\t\t# arr의 각 원소별로 탐색\n",
    "    print(1) if num in A else print(0)\t# num이 A 안에 있으면 1, 없으면 0 출력"
   ]
  },
  {
   "cell_type": "code",
   "execution_count": null,
   "metadata": {},
   "outputs": [],
   "source": [
    "#흩날리는 시험지 속에서 내 평점이 느껴진거야\n",
    "\n",
    "n, k = map(int, input().split())\n",
    "scores = list(map(int, input().split()))\n",
    "\n",
    "#그룹의 맞은 문제의 합의 최소값 기준으로 binary search \n",
    "left = 0\n",
    "right = sum(scores) + 1 #최대점수\n",
    "answer = 0\n",
    "\n",
    "while left <= right:\n",
    "    mid = (left + right) // 2 #중간값에 대하여 몇개의 그룹\n",
    "    #맞은개수\n",
    "    cnt = 0\n",
    "    total_sum = 0  \n",
    "    for i in scores:\n",
    "        total_sum += i\n",
    "        if total_sum >= mid:\n",
    "            cnt += 1\n",
    "            total_sum = 0\n",
    "    # 전체 그룹의 개수가 k개보다 많다면 해당 점수로 나눌 수 있다. 저장 후 오른쪽 확인\n",
    "    if cnt >= k:\n",
    "        answer = mid\n",
    "        left = mid + 1\n",
    "    # 전체 그룹의 개수가 k개보다 적다면 해당 점수로 나눌 수 없음 왼쪽 진행\n",
    "    else:\n",
    "        right = mid - 1\n",
    "#저장해둔 정답 출력\n",
    "print(answer)"
   ]
  },
  {
   "cell_type": "code",
   "execution_count": null,
   "metadata": {},
   "outputs": [],
   "source": []
  }
 ],
 "metadata": {
  "kernelspec": {
   "display_name": "conda_1",
   "language": "python",
   "name": "conda"
  },
  "language_info": {
   "codemirror_mode": {
    "name": "ipython",
    "version": 3
   },
   "file_extension": ".py",
   "mimetype": "text/x-python",
   "name": "python",
   "nbconvert_exporter": "python",
   "pygments_lexer": "ipython3",
   "version": "3.9.0"
  },
  "orig_nbformat": 4
 },
 "nbformat": 4,
 "nbformat_minor": 2
}
